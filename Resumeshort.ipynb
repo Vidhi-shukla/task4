{
 "cells": [
  {
   "cell_type": "code",
   "execution_count": 1,
   "metadata": {},
   "outputs": [
    {
     "name": "stderr",
     "output_type": "stream",
     "text": [
      "c:\\Users\\DELL\\AppData\\Local\\Programs\\Python\\Python310\\lib\\site-packages\\numpy\\_distributor_init.py:30: UserWarning: loaded more than 1 DLL from .libs:\n",
      "c:\\Users\\DELL\\AppData\\Local\\Programs\\Python\\Python310\\lib\\site-packages\\numpy\\.libs\\libopenblas.FB5AE2TYXYH2IJRDKGDGQ3XBKLKTF43H.gfortran-win_amd64.dll\n",
      "c:\\Users\\DELL\\AppData\\Local\\Programs\\Python\\Python310\\lib\\site-packages\\numpy\\.libs\\libopenblas64__v0.3.21-gcc_10_3_0.dll\n",
      "  warnings.warn(\"loaded more than 1 DLL from .libs:\"\n"
     ]
    }
   ],
   "source": [
    "import os\n",
    "import pdfplumber\n",
    "from sklearn.feature_extraction.text import ENGLISH_STOP_WORDS\n",
    "from sklearn.feature_extraction.text import CountVectorizer\n",
    "from sklearn.metrics.pairwise import cosine_similarity\n",
    "from nltk.corpus import stopwords\n",
    "from nltk.tokenize import word_tokenize\n",
    "from nltk.stem import WordNetLemmatizer\n",
    "import spacy\n"
   ]
  },
  {
   "cell_type": "code",
   "execution_count": 2,
   "metadata": {},
   "outputs": [],
   "source": [
    "#extract text from a PDF file\n",
    "def extract_text_from_pdf(pdf_path):\n",
    "    with pdfplumber.open(pdf_path) as pdf:\n",
    "        return ''.join(page.extract_text() for page in pdf.pages if page.extract_text())\n"
   ]
  },
  {
   "cell_type": "code",
   "execution_count": 4,
   "metadata": {},
   "outputs": [],
   "source": [
    " #for preprocessing text\n",
    "def preprocess(text):\n",
    "    # Tokenization\n",
    "    tokens = word_tokenize(text.lower())\n",
    "    # Remove stop words\n",
    "    stop_words = set(stopwords.words('english'))\n",
    "    tokens = [word for word in tokens if word.isalnum() and word not in stop_words]\n",
    "    # Lemmatization\n",
    "    lemmatizer = WordNetLemmatizer()\n",
    "    tokens = [lemmatizer.lemmatize(word) for word in tokens]\n",
    "    return ' '.join(tokens)\n"
   ]
  },
  {
   "cell_type": "code",
   "execution_count": 5,
   "metadata": {},
   "outputs": [],
   "source": [
    "# Function to calculate similarity using keyword matching\n",
    "def calculate_similarity(job_requirements, resume_text):\n",
    "    # Create a CountVectorizer with binary values (1 if word is present, 0 otherwise)\n",
    "    vectorizer = CountVectorizer(binary=True, stop_words=ENGLISH_STOP_WORDS)\n",
    "    \n",
    "    # Transform job requirements and resume text into binary vectors\n",
    "    job_vector = vectorizer.fit_transform([job_requirements])\n",
    "    resume_vector = vectorizer.transform([resume_text])\n",
    "\n",
    "    # Calculate cosine similarity\n",
    "    similarity = cosine_similarity(job_vector, resume_vector)[0][0]\n",
    "\n",
    "    return similarity\n"
   ]
  },
  {
   "cell_type": "code",
   "execution_count": 6,
   "metadata": {},
   "outputs": [],
   "source": [
    " # path containing resumes\n",
    "resume_folder_path = 'C:/Users/DELL/Desktop/res/resumes'\n"
   ]
  },
  {
   "cell_type": "code",
   "execution_count": 8,
   "metadata": {},
   "outputs": [],
   "source": [
    "# job requirements\n",
    "job_requirements = \"SQL, javascript, HTML, Java, CSS, Python, communication skill, project management\"\n"
   ]
  },
  {
   "cell_type": "code",
   "execution_count": 9,
   "metadata": {},
   "outputs": [
    {
     "name": "stdout",
     "output_type": "stream",
     "text": [
      "Similarity Scores of All Resumes:\n",
      "Resume: C:/Users/DELL/Desktop/res/resumes\\10089434.pdf, Similarity Score: 77.46%\n",
      "Resume: C:/Users/DELL/Desktop/res/resumes\\10247517.pdf, Similarity Score: 70.71%\n",
      "Resume: C:/Users/DELL/Desktop/res/resumes\\11187796.pdf, Similarity Score: 63.25%\n",
      "Resume: C:/Users/DELL/Desktop/res/resumes\\94230796.pdf, Similarity Score: 54.77%\n",
      "Resume: C:/Users/DELL/Desktop/res/resumes\\VIDHI_RESUME.pdf, Similarity Score: 94.87%\n"
     ]
    }
   ],
   "source": [
    "# Iterate through resumes and calculate similarity\n",
    "print(\"Similarity Scores of All Resumes:\")\n",
    "similarity_scores = []  # List to store similarity scores\n",
    "for filename in os.listdir(resume_folder_path):\n",
    "    if filename.endswith(\".pdf\"):\n",
    "        pdf_path = os.path.join(resume_folder_path, filename)\n",
    "        resume_text = extract_text_from_pdf(pdf_path)\n",
    "        processed_resume = preprocess(resume_text)\n",
    "\n",
    "        # Calculate similarity using keyword matching\n",
    "        similarity = calculate_similarity(job_requirements, processed_resume)\n",
    "        similarity_scores.append((pdf_path, similarity * 100))  # Store the score\n",
    "\n",
    "        print(f\"Resume: {pdf_path}, Similarity Score: {similarity * 100:.2f}%\")\n"
   ]
  },
  {
   "cell_type": "code",
   "execution_count": 10,
   "metadata": {},
   "outputs": [],
   "source": [
    "# Set a threshold for similarity score\n",
    "threshold = 70 \n",
    "top_matches = [score for score in similarity_scores if score[1] >= threshold]\n"
   ]
  },
  {
   "cell_type": "code",
   "execution_count": 11,
   "metadata": {},
   "outputs": [
    {
     "name": "stdout",
     "output_type": "stream",
     "text": [
      "\n",
      "Shortlisted Resumes:\n",
      "Resume: C:/Users/DELL/Desktop/res/resumes\\10089434.pdf, Similarity Score: 77.46%\n",
      "Resume: C:/Users/DELL/Desktop/res/resumes\\10247517.pdf, Similarity Score: 70.71%\n",
      "Resume: C:/Users/DELL/Desktop/res/resumes\\VIDHI_RESUME.pdf, Similarity Score: 94.87%\n"
     ]
    }
   ],
   "source": [
    "# Display the top matching resumes\n",
    "print(\"\\nShortlisted Resumes:\")\n",
    "for match in top_matches:\n",
    "    print(f\"Resume: {match[0]}, Similarity Score: {match[1]:.2f}%\")\n"
   ]
  },
  {
   "cell_type": "code",
   "execution_count": 18,
   "metadata": {},
   "outputs": [
    {
     "name": "stdout",
     "output_type": "stream",
     "text": [
      "\n",
      "Extracted skill from C:/Users/DELL/Desktop/res/resumes\\10089434.pdf:\n",
      "Sql: False\n",
      "Javascript: False\n",
      "Html: False\n",
      "Java: False\n",
      "Communication Skill: False\n",
      "Project Management: False\n",
      "\n",
      "Extracted skill from C:/Users/DELL/Desktop/res/resumes\\10247517.pdf:\n",
      "Sql: False\n",
      "Javascript: False\n",
      "Html: False\n",
      "Java: False\n",
      "Communication Skill: False\n",
      "Project Management: False\n",
      "\n",
      "Extracted skill from C:/Users/DELL/Desktop/res/resumes\\VIDHI_RESUME.pdf:\n",
      "Sql: False\n",
      "Javascript: False\n",
      "Html: False\n",
      "Java: False\n",
      "Communication Skill: False\n",
      "Project Management: False\n"
     ]
    }
   ],
   "source": [
    "nlp = spacy.load(\"en_core_web_sm\")\n",
    "def extract_requirements_from_resume(resume_text):\n",
    "    doc = nlp(resume_text.lower()) \n",
    "\n",
    "    extracted_info = {\n",
    "        \"sql\": False,\n",
    "        \"javascript\": False,\n",
    "        \"html\": False,\n",
    "        \"java\": False,\n",
    "        \"communication skill\":False,\n",
    "        \"project management\":False\n",
    "    }\n",
    "    for sentence in doc.sents:\n",
    "        processed_sentence = preprocess(sentence.text)\n",
    "        if any(keyword in processed_sentence for keyword in [\"sql\", \"javascript\", \"html\",\"java\",\"communication skill\",\"project management\"]):\n",
    "            extracted_info[\"sql\"] = True\n",
    "\n",
    "        if \"javascript\" in processed_sentence:\n",
    "            extracted_info[\"javascript\"] = True\n",
    "\n",
    "        if \"html\" in processed_sentence:\n",
    "            extracted_info[\"html\"] = True\n",
    "\n",
    "        if \"java\" in processed_sentence:\n",
    "            extracted_info[\"java\"] = True\n",
    "\n",
    "        if \"communication skill\" in processed_sentence:\n",
    "            extracted_info[\"communication skill\"] = True\n",
    "\n",
    "        if \"project management\" in processed_sentence:\n",
    "            extracted_info[\"project management\"] = True\n",
    "        \n",
    "        return extracted_info\n",
    "\n",
    "# Extract information from each shortlisted resume\n",
    "for resume_path, _ in top_matches:\n",
    "    resume_text = extract_text_from_pdf(resume_path)\n",
    "    extracted_info = extract_requirements_from_resume(resume_text)\n",
    "    \n",
    "    print(f\"\\nExtracted skill from {resume_path}:\")\n",
    "    for key, value in extracted_info.items():\n",
    "        print(f\"{key.replace('_', ' ').title()}: {value}\")\n"
   ]
  },
  {
   "cell_type": "code",
   "execution_count": 14,
   "metadata": {},
   "outputs": [
    {
     "name": "stdout",
     "output_type": "stream",
     "text": [
      "Cleaned text from 10089434.pdf:\n",
      "information technology technician summary versatile system administrator possessing superior troubleshooting skill networking issue end user problem network security experienced server management system analysis offering understanding infrastructure area independent focused taking systematic approach solving complex problem demonstrated exceptional technical knowledge skill working various team achieve shared goal objective highlight active directory group policy object powershell vbscript microsoft exchange vmware experience new technology product research office 365 azure storage management enterprise backup management disaster recovery experience information technology technician aug 2007 current company name city state migrating managing user account microsoft office 365 exchange online creating managing virtual machine system domain controller active directory federation service adfs microsoft window azure iaa creating managing storage microsoft window azure iaa installing configuring storsimple iscsi cloud array installing configuring testing twinstrata iscsi cloud array collaborating project plan office 365 migration developing detailed specification office 365 migration including documentation cost benefit analysis technical diagram work flow documentation received training mvc 4 visual studio using framework develop application using html5 css3 installing configuring supporting linux machine open network project compiling generating statistical information concerning wireless network traffic using cactus configuring wireless lan router networking security access installing configuring wireless certificate developing detailed specification acquisition enterprise backup system including system design documentation cost benefit analysis technical diagram work flow documentation reviewing evaluating analyzing departmental policy guideline procedure standard management staff developing test script acceptance unit system testing hyperion phase 1 miamibiz phase developing quality assurance testing plan hyperion phase 1 miamibiz phase debugging logging error hyperion miamibiz using team foundation server tfs participated various phase project life cycle determining requirement design conceptualization testing implementation deployment release hyperion miamibiz project collaborating project plan hyperion miamibiz preparing presentation documentation demonstrate hyperion miamibiz functionality design monitoring network traffic compiling generating statistical information using solar wind collaborating disaster recovery plan procedure researching evaluating recommending new hardware new software communicating defining system design requirement new existing system application researching evaluating recommending testing implementing third party planning designing network infrastructure change server appliance network logical flow reviewing evaluating analyzing existing system application viability management staff administering maintaining share file server reviewing server log troubleshoot issue scheduling applying hot fix security patch server infrastructure includes operating system application software reviewing system reporting sccm system center configuration manager resolving service request escalated help desk technician troubleshooting analyzing system problem root cause analysis giving participating training education program explain upgrade end user migrating user document local computer storage share file server configuring supporting maintaining file share using distributed file system dfs managing implementing testing enterprise backup infrastructure system symantec veritas netbackup symantec backup exec system vranger backup server managing configuring supporting datadomain storage configuring supporting microsoft window server 2003 2008 installing configuring supporting microsoft window 7 window 8 microsoft office 2007 2010 installing configuring supporting mcafee software server migrating exchange infrastructure exchange 2003 exchange 2007 exchange 2007 exchange supporting server virtualization infrastructure using vmware vsphere installing configuring testing veeam virtual machine backup software virtual desktop infrastructure vdi reviewing system reporting system center configuration manager sccm administering maintaining symantec enterprise vault server managing active directory domain controller dc creating maintaining group policy object gpo microsoft active directory configuring supporting microsoft exchange active sync device apple io android mobile operating system configuring supporting blackberry device blackberry enterprise server receive exchange email developing testing designing implementing application script using language command batch file visual basic script powershell creating policy procedural documentation information service liaison aug 2005 aug 2007 company name city state troubleshooting hardware software problem telephone remote pc administration software installing configuring supporting mcafee software desktop installing configuring supporting bbars computer backup software developing maintaining website server running microsoft sharepoint server internet information service ii supporting system management server sm troubleshooting lan wan internet intranet network security access troubleshooting network connectivity issue related domain name service dns dynamic host configuration protocol dhcp protocol internet security acceleration isa proxy server vpn troubleshooting web issue client browser related software administering maintaining end user account permission access right microsoft active directory administering maintaining ntfs security permission file server installing configuring maintaining hardware server workstation laptop printer scanner window enterprise environment installing configuring supporting printer print server installing configuring supporting microsoft window server 2000 2003 microsoft window xp window vista microsoft office xp 2003 education bachelor science information technology 2005 florida international univeristy city state united state coursework programming web administration network administration database administration system administration linux programming language java jsp html cs bash certification comptia 2014 skill active directory azure backup exec backup bash batch cactus cisco asa database dhcp dns documentation datadomain emc enterprise vault epo file server firewall gpo html ii isa ldap linux mcafee exchange microsoft office microsoft window security policy powershell programming proxy server server script solarwinds sql storsimple troubleshooting tmg ubuntu visual basic script vbs veritas netbackup vpn vranger veeam vmware vdi virtual manchine nmap zenmap\n",
      "--------------------------------------------------\n",
      "\n",
      "Cleaned text from 10247517.pdf:\n",
      "information technology manager professional summary posse extensive background information technology management along master science degree multiple certification excels planning implementing evaluating system infrastructure staffing necessary execute complex initiative meet deadline dynamic environment adept overseeing participating installation configuration maintenance upgrade network hardware server peripheral decisive applies communication leadership skill interface effectively level organization expertise span network engineering helpdesk administration software licensing disaster recovery management strategic budgeting vendor relation development quality assurance troubleshooting problem solving process improvement experience current information technology manager company name city state bankruptcy trustee office handling chapter 13 chapter 12 case northern district georgia manages application system used track chapter 13 bankruptcy case office technology information system virus server evaluates recommends implement support troubleshoots hardware software maintains infrastructure connectivity security well lan user documentation performs disaster recovery planning administers license service contract schedule service visit vendor supplier defines document ass update procedure needed creates maintains user account including email inspects employee computer quarterly ensure compliance configuration setting office policy coordinate special project designed implemented network infrastructure enhancement improve performance security remote access connectivity standardized hardware peripheral software established helpdesk support system monitoring prioritizing scheduling request spearheaded deployment new tracking system provided performance metric used identify additional training resource required researched installed configured enterprise backup solution disaster recovery included feature allow user recover deleted item without need recover dr backup doubled wan bandwidth propelled lan wlan performance 100 higher wan lan wlan reconfiguration improved accuracy doubled efficiency 35 87 increased cost saving developing automated script retrieving data outside server automated asset tracking employing hand scanner database system improve efficiency accuracy network analyst company name city state global manufacturer equipment precision material dispensing testing inspection surface preparation curing fueled improvement lan performance replacing existing network entailed changing software lan cabling 20 existing switch including reconfiguring core switch remote wiring closet multiple stack unit led team five network equipment support maintained analyzed troubleshot nortel juniper network system equipment infrastructure server pc notebook thin client printer peripheral used 600 worker 200 unit configured operation client global company objective participation telecom design role promotion mechanical drafter engineering checker mechanical designer network support request 75 cut equipment cost 50 boosted work productivity 30 applying configuration develop install implement thin client solution 90 plant manufacturing cell reduced standard company imaging system deployment time 60 customization replacing refreshing 40 pc quarter 100 schedule planned designed installed configured tested wireless network wlan cisco nortel meraki multiple facility documented standard u operation trained user monitored performance replaced 125 field service laptop programming standard image custom configuration machine completing week project schedule despite disruption part availability due tsunami championed use computer manufacturing cell provide drawing also facilitate order tracking conjunction erp system designed implemented automated pick list shipping document well tracking distribution trained mentored 15 new department staff member contractor company name city state plant control manager company name city state drafter company name city state accomplishment microsoft apple page number keynote autodesk autocad microsoft apple page number keynote autodesk autocad solidworks sap r3 operating system microsoft sql microsoft exchange sccm do window 10 window nt server window server 2012 osx io hardware wlan nortel mitel shortel cisco meraki apple airport palo sonicwall firewall peripheral barracuda web filter barracuda message archiver accelerator dell iscsi san installation configuration dell powervault adtran router cisco router catalyst switch hp procurve switch icc patch panel cross connects phone data education master science leadership walden university city state 2015 master science information system management project management walden university city state 2013 bachelor science information system management mechanical engineering walden university city state certification mcp â comptia comptia skill backup cabling cisco hardware contract client client database disaster recovery planning disaster recovery email erp feature imaging information system inspection inspects lan notebook laptop mechanical access office enterprise network administrator network network nortel peripheral pick policy printer programming scanner scheduling server script shipping switch switch user documentation telecom wan wiring\n",
      "--------------------------------------------------\n",
      "\n",
      "Cleaned text from 11187796.pdf:\n",
      "michael art craft store summary determined individual zeal accomplish task challenge given seeking exceed expectation next year plan achieve bachelor degree environmental technology management attain job field sustainable design technology experience michael art craft store march 2017 current company name city state â capital blvd location aid store manager assistant store manager replenishment manager day day operation planning unload stock store merchandise train new replenishment associate employee month july february 2016 march 2017 company name city state provide customer service sale floor manage associate store operation train ass new associate assumed position brier creek raleigh nc location october 2015 june 2015 february 2016 company name city state brier creek location support specialist prepare cash register count money prepare documentation bank deposit manage cashier morning sale offer customer service efficiently run cash register knowledge certification arcgis program water quality testing stream assessment tree inventory osha 40 hour hazwoper certification education training associate science liberal art science mathematics 2015 suny adirondack city state dean list graduated cum laude bachelor science environmental technology management 2018 north carolina state university city state project richard lee estate clayton nc phase iii environmental site assessment skill customer service management inventory management communication\n",
      "--------------------------------------------------\n",
      "\n",
      "Cleaned text from 94230796.pdf:\n",
      "library aide professional summary high school graduate june 2008 accepted broward county intern within aviation department undergoing practical training experiencing actually like working within industry least year henceforth resulting proactive library aide seven year relevant hand experience diverse office setting exceptional people excellent tasking communication presentation skill subsequent extraordinary computer ingenuity energetic extremely organized responsible individual fluent english admirable writing oral skill also capable work deadline moreover hard working dynamic team player high hope filling front desk position core qualification excellent communication skill exceptional telephone etiquette maintenance microsoft office computer proficient excel customer service ability work well independently limited supervision ability take direction well ability prioritize remain focused essence issue proficient learning new concept exhibit positive attitude adapts well changing condition experience library aide june 2009 current company name city state responsibility include assisting customer circulation desk answer question identifying service need checking renewing material issuing updating library card customer account processing cash transaction fine fee printing bus pass resolve variety public order maximize circulation department service provided renew material also answer question concerning account phone discharge sort returned material pack unpack delivery book item sent branch responsible shelving specific section book library located include variety subject ranging fiction art craft responsible searching claim return item time time tracer router created managed excel document allow system item efficiently accounted route book back proper owing branch devoted enthusiastic energetic member spirit committee help coordinate variety activity program within division voting system technician vst november 2014 november 2014 company name city state responsible setting ada ivotronic unit ds200 optical scanner responsible trained open troubleshoot close equipment election day instruct voter insert ballot optical scanner assist visually impaired voter insert ballot optical scanner assist visually impaired voter execution audio ballot friday election vsts required report regional site pick material election day make contact clerk set precinct election night specific material must returned vst back regional site public service intern june 2008 april 2009 company name city state performed administrative office support activity multiple supervisor duty include answering telephone call receiving directing visitor word processing filing extensive software skill required well internet research ability strong communication skill performed copying filing duty assisted supervisor project assisted archiving county record assisted creating annual maintenance budget assisted payroll preparation created maintained table spreadsheet track variety maintenance activity greeted visitor answered question provided direction answered telephone routed call took accurate message assisted staff reception area sorted mail photocopied document service coordinator distributed incoming mail processed outgoing mail presented idea orally writing learned used various computer program information technology learned value hard work persistence devised mean dealing extra stress associated multiple demand encourages effective teamwork met need organization employee possible researched investigated compiled information identified combined variety resource material final copy demonstrated convincing public speaking culinary art august 2007 june 2008 company name city state skillfully preparing meal pleasing palate eye knowledge science food understanding diet nutrition knife skill nutrition food safety sanitation baking principle cooking method food service purchasing restaurant operation execution basic food preparation taste proper seasoning consistency presentation degree proper cooking provided sunsational service working pressure within given time frame woman tomorrow mentor group october 2004 june 2008 company name city state mentor scholarship program inspires motivates empowers young woman live full potential mentoring highly accomplished professional woman scholarship opportunity assessed evaluated situation effectively ensured task completed time interpreted rule regulation used integrity expressed idea thought based fact instilled others demonstrated flexibility commitment change learning hair stylist august 2007 may 2008 company name city state maintained comprehensive understanding hair care industry business operation set goal follow quick thinker creative displayed understanding respect people diverse background listened actively attentively coordination adjusted action relation others action tolerance due time consuming style education high school diploma culinary art 2008 mcfatter technical high school city state united state culinary art certification professional affiliation spirit committee â purpose spirit committee support promote improve relation individual team â goal â existing program south regional library opportunity staff faculty interact socially wellness programming student staff faculty accomplishment summer youth feeding program â broward county library conjunction sister abundant living provided free lunch snack child summer 2014 part library summer reading program partnership florida department agriculture consumer service summer breakspot program brought free food community underserved child generated series different activity entertainment served free food community 18 yr age â system book â created excel document keep track book material returned branch location accidentally documentation â wrote edited document keep staff informed policy procedure current status particular item â â interest skill credit page\n",
      "--------------------------------------------------\n",
      "\n",
      "Cleaned text from VIDHI_RESUME.pdf:\n",
      "vidhi shukla 9506276231 shuklavidhi52 education master science information technology university mumbai may 2024 cgpa bachelor science information technology university mumbai may 2022 cgpa higher secondary education vishnu waman thakur charitable trust may 2019 percentage research predicting pcos using learning vector quantization sep 2022 conducted research application learning vector quantization lvq algorithm early prediction polycystic ovary syndrome pcos utilized range data machine learning technique analyse clinical data set paper currently review presentation springer nature equinocs conference highlighting potential impact innovation field medical informatics ai key project nlp based sentiment analysis twitter data india jun 2023 developed sentiment analysis model using advanced nlp technique model like bert gpt technology used python bert gpt tensorflow natural language processing nlp data analytics plagiarism checker jan 2022 engineered plagiarism detection tool using nlp machine learning technique analyse compare textual content technology used python natural language processing nlp text processing algorithm machine learning course certification foundational c microsoft developer certification sep 2023 programming everybody using python coursera university michigan sep 2023 mysql basic great learning academy sep 2023 google certified professional machine learning engineer jul 2023 tc ion career edge young professional communication skill jun 2023 data visualization using tableau great learning feb 2022 introduction cloud identity coursera google cloud jul 2021 skill programming language python javascript java html cs database sql extracurricular activity active member student council contributing significantly organizational event management task demonstrated leadership skill coordinating team activity planning executing school event representing student interest\n",
      "--------------------------------------------------\n",
      "\n"
     ]
    }
   ],
   "source": [
    "import PyPDF2\n",
    "import re\n",
    "# PDF Text Extraction and Preprocessing\n",
    "def extract_text_from_pdf(file_path):\n",
    "    text = ''\n",
    "    try:\n",
    "        with open(file_path, 'rb') as file:\n",
    "            reader = PyPDF2.PdfReader(file)\n",
    "            for page in reader.pages:\n",
    "                text += page.extract_text() + \"\\n\"\n",
    "    except Exception as e:\n",
    "        print(f\"Error processing file {file_path}: {e}\")\n",
    "    return text\n",
    "\n",
    "def extract_and_preprocess_texts_from_folder(folder_path):\n",
    "    pdf_texts = {}\n",
    "    for filename in os.listdir(folder_path):\n",
    "        if filename.endswith('.pdf'):\n",
    "            file_path = os.path.join(folder_path, filename)\n",
    "            extracted_text = extract_text_from_pdf(file_path)\n",
    "            cleaned_text = preprocess(extracted_text)\n",
    "            pdf_texts[filename] = cleaned_text\n",
    "    return pdf_texts\n",
    "\n",
    "folder_path = 'C:/Users/DELL/Documents/intern/Task3/resumes'  # Replace with the path to your folder\n",
    "pdf_texts = extract_and_preprocess_texts_from_folder(folder_path)\n",
    "\n",
    "for filename, text in pdf_texts.items():\n",
    "    print(f\"Cleaned text from {filename}:\")\n",
    "    print(text)\n",
    "    print(\"--------------------------------------------------\\n\")"
   ]
  },
  {
   "cell_type": "code",
   "execution_count": 19,
   "metadata": {},
   "outputs": [
    {
     "name": "stdout",
     "output_type": "stream",
     "text": [
      "File: 10089434.pdf\n",
      "Skills Extracted using Regex: {'java', 'sql', 'html'}\n",
      "--------------------------------------------------\n",
      "\n",
      "File: 10247517.pdf\n",
      "Skills Extracted using Regex: {'communication skill', 'sql'}\n",
      "--------------------------------------------------\n",
      "\n",
      "File: 11187796.pdf\n",
      "Skills Extracted using Regex: {'communication skill'}\n",
      "--------------------------------------------------\n",
      "\n",
      "File: 94230796.pdf\n",
      "Skills Extracted using Regex: {'communication skill'}\n",
      "--------------------------------------------------\n",
      "\n",
      "File: VIDHI_RESUME.pdf\n",
      "Skills Extracted using Regex: {'python', 'html', 'javascript', 'java', 'communication skill', 'sql'}\n",
      "--------------------------------------------------\n",
      "\n"
     ]
    }
   ],
   "source": [
    "# Skill extraction using regex\n",
    "def extract_skills_regex(text, skill_dict):\n",
    "    extracted_skills = set()\n",
    "    for skill, variations in skill_dict.items():\n",
    "        for variation in variations:\n",
    "            if re.search(r'\\b' + re.escape(variation) + r'\\b', text, re.IGNORECASE):\n",
    "                extracted_skills.add(skill)\n",
    "    return extracted_skills\n",
    "\n",
    "folder_path = 'C:/Users/DELL/Documents/intern/Task3/resumes'  \n",
    "pdf_texts = extract_and_preprocess_texts_from_folder(folder_path)\n",
    "\n",
    "\n",
    "skill_lemma_dict = {\n",
    "    \"python\": [\"python\", \"py\", \"pandas\", \"numpy\", \"scipy\", \"flask\", \"django\"],\n",
    "    \"java\": [\"java\", \"jvm\", \"spring\", \"hibernate\", \"maven\", \"gradle\"],\n",
    "    \"javascript\": [\"javascript\", \"js\", \"node.js\", \"react.js\", \"vue.js\", \"angular\", \"typescript\"],\n",
    "    \"html\": [\"html\"],\n",
    "    \"css\": [\"css\", \"sass\", \"less\"],\n",
    "    'communication skill': ['communication', 'interpersonal'],\n",
    "    \"sql\": [\"sql\", \"mysql\", \"postgresql\", \"oracle\", \"sql server\"],\n",
    "    \n",
    "}\n",
    "\n",
    "for filename, text in pdf_texts.items():\n",
    "    skills_from_regex = extract_skills_regex(text, skill_lemma_dict)\n",
    "    print(f\"File: {filename}\")\n",
    "    print(\"Skills Extracted using Regex:\", skills_from_regex)\n",
    "    print(\"--------------------------------------------------\\n\")"
   ]
  }
 ],
 "metadata": {
  "kernelspec": {
   "display_name": "Python 3",
   "language": "python",
   "name": "python3"
  },
  "language_info": {
   "codemirror_mode": {
    "name": "ipython",
    "version": 3
   },
   "file_extension": ".py",
   "mimetype": "text/x-python",
   "name": "python",
   "nbconvert_exporter": "python",
   "pygments_lexer": "ipython3",
   "version": "3.10.5"
  }
 },
 "nbformat": 4,
 "nbformat_minor": 2
}
